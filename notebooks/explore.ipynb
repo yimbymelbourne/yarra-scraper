{
 "cells": [
  {
   "cell_type": "markdown",
   "metadata": {},
   "source": [
    "# Simple scraper\n",
    "\n",
    "The following cell includes code to scrape the first page of the Yarra City Council planning applications list. It provides a skeleton of the data processing required to scrape results. It does not provide support for navigating results or fetching links for the info page for each application."
   ]
  },
  {
   "cell_type": "code",
   "execution_count": 35,
   "metadata": {},
   "outputs": [
    {
     "name": "stdout",
     "output_type": "stream",
     "text": [
      "{'council_reference': 'PLN23/0800', 'date_received': '2023-11-17', 'description': 'Partial demolition, ground floor extension to the existing dwelling and construction of a double-storey dwelling to the rear, including a reduction in the car parking requirements and front fence', 'address': '34 Shelley St Richmond VIC 3121', 'info_url': 'URL Construction Logic Here', 'date_scraped': '2023-11-21'}\n",
      "{'council_reference': 'PLN23/0799', 'date_received': '2023-11-16', 'description': 'PROPOSED OUTDOOR OVERHEAD LIGHTBOX SIGN - 1M(W) X 1M(H) X 0.15M(THK), NEW COLOUR TO GROUND FLOOR SHOPFRONT & NEW RETRACTABLE AWNING.', 'address': '191 Brunswick St Fitzroy VIC 3065', 'info_url': 'URL Construction Logic Here', 'date_scraped': '2023-11-21'}\n",
      "{'council_reference': 'PLN22/0545.01', 'date_received': '2023-11-16', 'description': 'Installing a Round window', 'address': '6 Bliss St Richmond VIC 3121', 'info_url': 'URL Construction Logic Here', 'date_scraped': '2023-11-21'}\n",
      "{'council_reference': 'PLN21/0325.02', 'date_received': '2023-11-16', 'description': 'The proposal consists of amendments to the permit conditions which will enable our client to undertake early works, consistent with the enclosed early works plans prepared by SJB Architects.', 'address': '2 Brighton St Richmond VIC 3121', 'info_url': 'URL Construction Logic Here', 'date_scraped': '2023-11-21'}\n",
      "{'council_reference': 'PLN17/0278.06', 'date_received': '2023-11-15', 'description': 'Buildings and works associated with the construction of a mezzanine level within the existing bicycle maintenance workshop.', 'address': '510 Church St Cremorne VIC 3121', 'info_url': 'URL Construction Logic Here', 'date_scraped': '2023-11-21'}\n",
      "{'council_reference': 'PLN14/0879.05', 'date_received': '2023-11-15', 'description': 'Construct Garage,\\nDelete Studio on top of Garage', 'address': '551 Station St Carlton North VIC 3054', 'info_url': 'URL Construction Logic Here', 'date_scraped': '2023-11-21'}\n",
      "{'council_reference': 'PLN23/0793', 'date_received': '2023-11-14', 'description': 'Demolition and replacement of roof', 'address': '32 Alexander St Collingwood VIC 3066', 'info_url': 'URL Construction Logic Here', 'date_scraped': '2023-11-21'}\n",
      "{'council_reference': 'PLN23/0795', 'date_received': '2023-11-14', 'description': 'Demolition and construction of a fence', 'address': '286 St Georges Rd Fitzroy North VIC 3068', 'info_url': 'URL Construction Logic Here', 'date_scraped': '2023-11-21'}\n",
      "{'council_reference': 'PLN23/0789', 'date_received': '2023-11-13', 'description': 'Partial demolition and restoration to existing dwelling', 'address': '100 Mckean St Fitzroy North VIC 3068', 'info_url': 'URL Construction Logic Here', 'date_scraped': '2023-11-21'}\n",
      "{'council_reference': 'PLN23/0790', 'date_received': '2023-11-13', 'description': 'Two lot subdivision (boundary realignment)', 'address': '112 Hodgkinson St Clifton Hill VIC 3068', 'info_url': 'URL Construction Logic Here', 'date_scraped': '2023-11-21'}\n",
      "{'council_reference': 'PLN23/0791', 'date_received': '2023-11-13', 'description': 'Installation of an air-conditioning unit', 'address': '555 Nicholson St Carlton North VIC 3054', 'info_url': 'URL Construction Logic Here', 'date_scraped': '2023-11-21'}\n",
      "{'council_reference': 'PLN23/0247.01', 'date_received': '2023-11-13', 'description': 'The proposal now includes the pergola and garage door to the rear.', 'address': '69 Westgarth St Fitzroy VIC 3065', 'info_url': 'URL Construction Logic Here', 'date_scraped': '2023-11-21'}\n",
      "{'council_reference': 'PL01/0733.02', 'date_received': '2023-11-13', 'description': 'An amendment to Planning Permit PL01/0733 pursuant to Section 72 of the Planning and Environment Act 1987 to make the following changes:\\n- Amend Condition 6 to change hours of sale and consumption of liquor from 2pm to 12pm in all areas, seven days a week.', 'address': '555 Nicholson St Carlton North VIC 3054', 'info_url': 'URL Construction Logic Here', 'date_scraped': '2023-11-21'}\n",
      "{'council_reference': 'PHRF23/0216', 'date_received': '2023-11-10', 'description': 'Heritage Victoria Referral', 'address': '101 Yarra Bend Rd Fairfield VIC 3078', 'info_url': 'URL Construction Logic Here', 'date_scraped': '2023-11-21'}\n",
      "{'council_reference': 'PLN23/0788', 'date_received': '2023-11-10', 'description': 'Retrospective demolition and construction of a fence', 'address': '134 Rae St Fitzroy North VIC 3068', 'info_url': 'URL Construction Logic Here', 'date_scraped': '2023-11-21'}\n"
     ]
    }
   ],
   "source": [
    "from selenium import webdriver\n",
    "from selenium.webdriver.chrome.options import Options\n",
    "from datetime import datetime\n",
    "from bs4 import BeautifulSoup\n",
    "\n",
    "\n",
    "start_url = \"https://eservices.yarracity.vic.gov.au/WebApps/eProperty/P1/eTrack/eTrackApplicationSearch.aspx?Custom=Yes&ApplicationID=P&r=P1.WEBGUEST&f=P1.ETR.SEARCH.ALL\"\n",
    "\n",
    "chrome_options = Options()\n",
    "chrome_options.add_argument(\"--headless\")  # Run in headless mode (without opening a browser window)\n",
    "chrome_options.add_argument(\"user-agent=Mozilla/5.0 (Windows NT 10.0; Win64; x64) AppleWebKit/537.36 (KHTML, like Gecko) Chrome/58.0.3029.110 Safari/537.3\")\n",
    "\n",
    "with webdriver.Chrome(options=chrome_options) as driver:\n",
    "    driver.get(start_url)\n",
    "    driver.implicitly_wait(30)\n",
    "\n",
    "    if \"access denied\" in driver.page_source.lower():\n",
    "        print(\"403 Forbidden: Access Denied\")\n",
    "    \n",
    "    soup = BeautifulSoup(driver.page_source, 'html.parser')\n",
    "    \n",
    "    table = soup.find('table', {'id': 'ctl00_Content_cusResultsGrid_repWebGrid_ctl00_grdWebGridTabularView'}) \n",
    "    applications = []\n",
    "    if table:\n",
    "        rows = table.find_all('tr', class_=['normalRow', 'alternateRow'])\n",
    "        for row in rows:\n",
    "            columns = row.find_all('td')\n",
    "            application = {\n",
    "                'council_reference': columns[0].text.strip(),\n",
    "                'date_received': datetime.strptime(columns[1].text.strip(), '%d/%m/%Y').strftime('%Y-%m-%d'),\n",
    "                'description': columns[2].text.strip(),\n",
    "                'address': columns[3].text.strip(),\n",
    "                'info_url': 'URL Construction Logic Here',  # Placeholder for info URL logic\n",
    "                'date_scraped': datetime.now().strftime('%Y-%m-%d')\n",
    "            }\n",
    "            applications.append(application)\n",
    "    \n",
    "for app in applications:\n",
    "    print(app)"
   ]
  },
  {
   "cell_type": "markdown",
   "metadata": {},
   "source": [
    "# Navigating the site\n",
    "\n",
    "This script uses Selenium instead of BeautifulSoup to navigate the page. Thus we can grab multiple pages of results. We also grab the `info_url` by manually combining the prefix URL and the application number, with escape characters substituted in."
   ]
  },
  {
   "cell_type": "code",
   "execution_count": 76,
   "metadata": {},
   "outputs": [
    {
     "name": "stdout",
     "output_type": "stream",
     "text": [
      "{'council_reference': 'PLN23/0800', 'date_received': '2023-11-17', 'description': 'Partial demolition, ground floor extension to the existing dwelling and construction of a double-storey dwelling to the rear, including a reduction in the car parking requirements and front fence', 'address': '34 Shelley St Richmond VIC 3121', 'stage': 'Preliminary Assessment', 'info_url': 'https://eservices.yarracity.vic.gov.au/WebApps/eProperty/P1/eTrack/eTrackApplicationDetails.aspx?r=P1.WEBGUEST&f=%24P1.ETR.APPDET.VIW&ApplicationId=PLN23%2f0800', 'date_scraped': '2023-11-21'}\n",
      "{'council_reference': 'PLN23/0786', 'date_received': '2023-11-09', 'description': 'Partial demolition and construction of rear ground and first floor extension and roof terrace', 'address': '260 Amess St Carlton North VIC 3054', 'stage': 'Preliminary Assessment', 'info_url': 'https://eservices.yarracity.vic.gov.au/WebApps/eProperty/P1/eTrack/eTrackApplicationDetails.aspx?r=P1.WEBGUEST&f=%24P1.ETR.APPDET.VIW&ApplicationId=PLN23%2f0786', 'date_scraped': '2023-11-21'}\n",
      "{'council_reference': 'PLN23/0775', 'date_received': '2023-11-03', 'description': 'Partial demolition and a ground and first floor extension to an existing dwelling, including the construction of a garage', 'address': '495 Canning St Carlton North VIC 3054', 'stage': 'Preliminary Assessment', 'info_url': 'https://eservices.yarracity.vic.gov.au/WebApps/eProperty/P1/eTrack/eTrackApplicationDetails.aspx?r=P1.WEBGUEST&f=%24P1.ETR.APPDET.VIW&ApplicationId=PLN23%2f0775', 'date_scraped': '2023-11-21'}\n",
      "{'council_reference': 'PLN23/0759', 'date_received': '2023-10-27', 'description': 'Construction of a three-storey warehouse building (self-storage units), including a reduction in the car parking requirements', 'address': '28-32 Bond St Abbotsford VIC 3067', 'stage': 'Further Information Requested', 'info_url': 'https://eservices.yarracity.vic.gov.au/WebApps/eProperty/P1/eTrack/eTrackApplicationDetails.aspx?r=P1.WEBGUEST&f=%24P1.ETR.APPDET.VIW&ApplicationId=PLN23%2f0759', 'date_scraped': '2023-11-21'}\n",
      "{'council_reference': 'PLN23/0749', 'date_received': '2023-10-23', 'description': 'Partial demolition and construction of a ground and first floor extension.', 'address': '142 George St Fitzroy VIC 3065', 'stage': 'Further Information Requested', 'info_url': 'https://eservices.yarracity.vic.gov.au/WebApps/eProperty/P1/eTrack/eTrackApplicationDetails.aspx?r=P1.WEBGUEST&f=%24P1.ETR.APPDET.VIW&ApplicationId=PLN23%2f0749', 'date_scraped': '2023-11-21'}\n"
     ]
    }
   ],
   "source": [
    "from selenium import webdriver\n",
    "from selenium.webdriver.common.by import By\n",
    "from selenium.webdriver.chrome.options import Options\n",
    "from bs4 import BeautifulSoup\n",
    "from datetime import datetime\n",
    "import time\n",
    "\n",
    "url = \"https://eservices.yarracity.vic.gov.au/WebApps/eProperty/P1/eTrack/eTrackApplicationSearch.aspx?Custom=Yes&ApplicationID=P&r=P1.WEBGUEST&f=P1.ETR.SEARCH.ALL\"\n",
    "info_url_prefix = 'https://eservices.yarracity.vic.gov.au/WebApps/eProperty/P1/eTrack/eTrackApplicationDetails.aspx?r=P1.WEBGUEST&f=%24P1.ETR.APPDET.VIW&ApplicationId='\n",
    "\n",
    "chrome_options = Options()\n",
    "chrome_options.add_argument(\"--headless\")\n",
    "chrome_options.add_argument(\"user-agent=Mozilla/5.0 (Windows NT 10.0; Win64; x64) AppleWebKit/537.36 (KHTML, like Gecko) Chrome/58.0.3029.110 Safari/537.3\")\n",
    "\n",
    "driver = webdriver.Chrome(options=chrome_options)\n",
    "driver.get(url)\n",
    "driver.implicitly_wait(10) # Wait for JS to load\n",
    "\n",
    "applications = []\n",
    "n_pages = 5\n",
    "for page in range(1, n_pages + 1):  # Iterate over first 2 pages\n",
    "    soup = BeautifulSoup(driver.page_source, 'html.parser')\n",
    "    table = soup.find('table', {'id': 'ctl00_Content_cusResultsGrid_repWebGrid_ctl00_grdWebGridTabularView'})\n",
    "    if table:\n",
    "        new_apps = []\n",
    "        rows = table.find_all('tr', class_=['normalRow', 'alternateRow'])\n",
    "        for row in rows:\n",
    "            columns = row.find_all('td')\n",
    "\n",
    "            application = {\n",
    "                'council_reference': columns[0].text.strip(),\n",
    "                'date_received': datetime.strptime(columns[1].text.strip(), '%d/%m/%Y').strftime('%Y-%m-%d'),\n",
    "                'description': columns[2].text.strip(),\n",
    "                'address': columns[3].text.strip(),\n",
    "                'stage': columns[4].text.strip(),\n",
    "                'info_url': info_url_prefix + columns[0].text.strip().replace('/', '%2f'), # prefix + council_reference\n",
    "                'date_scraped': datetime.now().strftime('%Y-%m-%d')\n",
    "            }\n",
    "            new_apps.append(application)\n",
    "            \n",
    "        applications.extend(new_apps)\n",
    "\n",
    "    # Navigate to next page if not on the last page\n",
    "    if page < n_pages:\n",
    "        links = driver.find_elements(By.CSS_SELECTOR, f\"tr.pagerRow > td td a\")\n",
    "        links[page-1].click()\n",
    "        time.sleep(5)  # Wait for the next page to load\n",
    "\n",
    "driver.quit()\n",
    "\n",
    "for app in applications:\n",
    "    print(app)\n"
   ]
  }
 ],
 "metadata": {
  "kernelspec": {
   "display_name": "base",
   "language": "python",
   "name": "python3"
  },
  "language_info": {
   "codemirror_mode": {
    "name": "ipython",
    "version": 3
   },
   "file_extension": ".py",
   "mimetype": "text/x-python",
   "name": "python",
   "nbconvert_exporter": "python",
   "pygments_lexer": "ipython3",
   "version": "3.11.4"
  },
  "orig_nbformat": 4
 },
 "nbformat": 4,
 "nbformat_minor": 2
}
